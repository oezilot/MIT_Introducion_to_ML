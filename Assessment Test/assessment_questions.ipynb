{
 "cells": [
  {
   "cell_type": "code",
   "execution_count": null,
   "metadata": {},
   "outputs": [
    {
     "data": {
      "text/plain": [
       "[2, 2, 2]"
      ]
     },
     "execution_count": 4,
     "metadata": {},
     "output_type": "execute_result"
    }
   ],
   "source": [
    "M1 = [[1, 2, 3], [1, 2, 3], [1, 2, 3]]\n",
    "\n",
    "# aus einer matrize eine kolonne extrahieren:\n",
    "def get_col(matrix, column):\n",
    "    col = []\n",
    "    for row in matrix:\n",
    "        col.append(row[column])\n",
    "    return col\n",
    "get_col(M1, 1) # die zweite kolonne der matrize herausprinten\n"
   ]
  },
  {
   "cell_type": "markdown",
   "metadata": {},
   "source": [
    "## Matrixmultiplikation"
   ]
  },
  {
   "cell_type": "code",
   "execution_count": 23,
   "metadata": {},
   "outputs": [
    {
     "name": "stdout",
     "output_type": "stream",
     "text": [
      "liste1 = [1, 2]\n",
      "Liste2 = [1, 4]\n",
      "9\n",
      "\n",
      "liste1 = [1, 2]\n",
      "Liste2 = [2, 5]\n",
      "12\n",
      "\n",
      "liste1 = [1, 2]\n",
      "Liste2 = [3, 6]\n",
      "15\n",
      "\n",
      "----------------\n",
      "liste1 = [3, 4]\n",
      "Liste2 = [1, 4]\n",
      "19\n",
      "\n",
      "liste1 = [3, 4]\n",
      "Liste2 = [2, 5]\n",
      "26\n",
      "\n",
      "liste1 = [3, 4]\n",
      "Liste2 = [3, 6]\n",
      "33\n",
      "\n",
      "----------------\n",
      "liste1 = [5, 6]\n",
      "Liste2 = [1, 4]\n",
      "29\n",
      "\n",
      "liste1 = [5, 6]\n",
      "Liste2 = [2, 5]\n",
      "40\n",
      "\n",
      "liste1 = [5, 6]\n",
      "Liste2 = [3, 6]\n",
      "51\n",
      "\n",
      "----------------\n",
      "[[9, 12, 15], [19, 26, 33], [29, 40, 51]]\n"
     ]
    }
   ],
   "source": [
    "def matrix_multiplication(M1, M2):\n",
    "\n",
    "    n1 = len(M1)\n",
    "    m1 = len(M1[0]) # = n2\n",
    "    m2 = len(M2[0])\n",
    "\n",
    "    M3 = [] # dimensionen = n1*m2\n",
    "\n",
    "    for zeile1 in range(n1):\n",
    "        liste1 = M1[zeile1]\n",
    "        M3.append([])\n",
    "\n",
    "        # parallele iteration durch beide matrizen: (liste1 und liste2 müssen immer gleich lang sein!)\n",
    "        for kolonne2 in range(m2):\n",
    "            liste2 = get_col(M2, kolonne2)\n",
    "            print(f\"liste1 = {liste1}\")\n",
    "            print(f\"Liste2 = {liste2}\")\n",
    "\n",
    "            # einen matrixpunkt berechnen (den ersten der ersten zeile)\n",
    "            point = 0\n",
    "            for i in range(len(liste1)):\n",
    "                point = point + liste1[i]*liste2[i] # nach jeder teilmultiplikation wirde der wert des punktes upgedatet\n",
    "            \n",
    "            M3[zeile1].append(point)\n",
    "            print(point)\n",
    "            print(\"\")\n",
    "\n",
    "        print(\"----------------\")\n",
    "\n",
    "    return M3\n",
    "\n",
    "print(matrix_multiplication([[1, 2], [3, 4], [5, 6]], [[1, 2, 3], [4, 5, 6]]))\n",
    "\n"
   ]
  }
 ],
 "metadata": {
  "kernelspec": {
   "display_name": "venv",
   "language": "python",
   "name": "python3"
  },
  "language_info": {
   "codemirror_mode": {
    "name": "ipython",
    "version": 3
   },
   "file_extension": ".py",
   "mimetype": "text/x-python",
   "name": "python",
   "nbconvert_exporter": "python",
   "pygments_lexer": "ipython3",
   "version": "3.12.3"
  }
 },
 "nbformat": 4,
 "nbformat_minor": 2
}
