{
 "cells": [
  {
   "cell_type": "markdown",
   "metadata": {},
   "source": [
    "# Assessment Test Aufgaben 3.0 (Python)"
   ]
  },
  {
   "cell_type": "markdown",
   "metadata": {},
   "source": [
    "## PYTHON BASIC FUNCTIONS"
   ]
  },
  {
   "cell_type": "code",
   "execution_count": null,
   "metadata": {},
   "outputs": [],
   "source": [
    "# Aufgabe 3.1) Q21\n",
    "'''\n",
    "Given two lists of numbers, write a procedure that returns a list of the element-wise sum of the number in those two lists. In the following, no imports should be used.\n",
    "'''\n",
    "def add_two_lists(L1, L2):\n",
    "    summed_list = []\n",
    "    for index, element in enumerate(L1):\n",
    "        sum = element + L2[index]\n",
    "        summed_list.append(sum)\n",
    "    return summed_list\n",
    "print(add_two_lists([1, 2, 3], [1, 2, 3]))\n",
    "\n",
    "'''schönere lösung:\n",
    "def add_two_lists(a, b):\n",
    "    new_list = []\n",
    "    for i in range(len(a)):\n",
    "        new_list.append(a[i]+b[i])\n",
    "    return new_list\n",
    "'''"
   ]
  },
  {
   "cell_type": "code",
   "execution_count": null,
   "metadata": {},
   "outputs": [],
   "source": [
    "# Aufgabe 3.1) Q22\n",
    "'''\n",
    "Given two column vectors (each represented as a list of numbers), write a procedure dot that returns the (scalar) dot product of two input vectors, each represented as a list of numbers.\n",
    "'''\n",
    "def dot(V1, V2):\n",
    "    sum = 0\n",
    "    for index in range(len(V1)):\n",
    "        product = V1[index]*V2[index]\n",
    "        sum = sum + product\n",
    "    return sum\n",
    "print(f\"Dot Product of V1 an V2: {dot([1, 2, 3], [1, 2, 3])}\")\n",
    "\n",
    "'''schöne lösung:\n",
    "def dot(v1, v2):\n",
    "    scalar = 0\n",
    "    for i in range(len(v1)):\n",
    "        scalar += v1[i] * v2[i]  # Accumulate the product of the corresponding elements\n",
    "    return scalar\n",
    "'''"
   ]
  },
  {
   "cell_type": "markdown",
   "metadata": {},
   "source": [
    "## PYTHON FUNCTIONS AS OBJECTS"
   ]
  },
  {
   "cell_type": "code",
   "execution_count": null,
   "metadata": {},
   "outputs": [],
   "source": [
    "# Aufgabe 3.2) Q23\n",
    "'''\n",
    "Write a function add_n that takes a single numeric argument n, and returns a function. The returned function should take a vector v as an argument and return a new vector with the value for n added to each element of vector v. For example, add_n(10)([1, 5, 3]) should return [11, 15, 13].\n",
    "'''\n",
    "def add_n(n, V):\n",
    "    def add(v):\n",
    "        for index, element in enumerate(v):\n",
    "            v[index] = element + n\n",
    "    return add(V)\n",
    "print(f\"add_n: {add_n(2, [1, 2, 3])}\")\n",
    "\n",
    "'''schönere lösung:\n",
    "'''"
   ]
  },
  {
   "cell_type": "markdown",
   "metadata": {},
   "source": [
    "## PYTHON ARRAYS AS LISTS OF LISTS"
   ]
  },
  {
   "cell_type": "code",
   "execution_count": null,
   "metadata": {},
   "outputs": [
    {
     "data": {
      "text/plain": [
       "[2, 2, 2]"
      ]
     },
     "execution_count": 4,
     "metadata": {},
     "output_type": "execute_result"
    }
   ],
   "source": [
    "M1 = [[1, 2, 3], [1, 2, 3], [1, 2, 3]]\n",
    "\n",
    "# aus einer matrize eine kolonne extrahieren:\n",
    "def get_col(matrix, column):\n",
    "    col = []\n",
    "    for row in matrix:\n",
    "        col.append(row[column])\n",
    "    return col\n",
    "get_col(M1, 1) # die zweite kolonne der matrize herausprinten\n"
   ]
  },
  {
   "cell_type": "code",
   "execution_count": null,
   "metadata": {},
   "outputs": [
    {
     "name": "stdout",
     "output_type": "stream",
     "text": [
      "liste1 = [1, 2]\n",
      "Liste2 = [1, 4]\n",
      "9\n",
      "\n",
      "liste1 = [1, 2]\n",
      "Liste2 = [2, 5]\n",
      "12\n",
      "\n",
      "liste1 = [1, 2]\n",
      "Liste2 = [3, 6]\n",
      "15\n",
      "\n",
      "----------------\n",
      "liste1 = [3, 4]\n",
      "Liste2 = [1, 4]\n",
      "19\n",
      "\n",
      "liste1 = [3, 4]\n",
      "Liste2 = [2, 5]\n",
      "26\n",
      "\n",
      "liste1 = [3, 4]\n",
      "Liste2 = [3, 6]\n",
      "33\n",
      "\n",
      "----------------\n",
      "liste1 = [5, 6]\n",
      "Liste2 = [1, 4]\n",
      "29\n",
      "\n",
      "liste1 = [5, 6]\n",
      "Liste2 = [2, 5]\n",
      "40\n",
      "\n",
      "liste1 = [5, 6]\n",
      "Liste2 = [3, 6]\n",
      "51\n",
      "\n",
      "----------------\n",
      "[[9, 12, 15], [19, 26, 33], [29, 40, 51]]\n"
     ]
    }
   ],
   "source": [
    "# Aufgabe 3.2) Q23\n",
    "'''\n",
    "Write a function array_mult that takes two two-dimensional arrays and performs a matrix multiplication, return a new two-dimensional array. Each array should be represented as a list of lists, i.e., as a list of rows, as discussed earlier. For example,\n",
    "'''\n",
    "\n",
    "def matrix_multiplication(M1, M2):\n",
    "\n",
    "    n1 = len(M1)\n",
    "    m1 = len(M1[0]) # = n2\n",
    "    m2 = len(M2[0])\n",
    "\n",
    "    M3 = [] # dimensionen = n1*m2\n",
    "\n",
    "    for zeile1 in range(n1):\n",
    "        liste1 = M1[zeile1]\n",
    "        M3.append([])\n",
    "\n",
    "        # parallele iteration durch beide matrizen: (liste1 und liste2 müssen immer gleich lang sein!)\n",
    "        for kolonne2 in range(m2):\n",
    "            liste2 = get_col(M2, kolonne2)\n",
    "            print(f\"liste1 = {liste1}\")\n",
    "            print(f\"Liste2 = {liste2}\")\n",
    "\n",
    "            # einen matrixpunkt berechnen (den ersten der ersten zeile)\n",
    "            point = 0\n",
    "            for i in range(len(liste1)):\n",
    "                point = point + liste1[i]*liste2[i] # nach jeder teilmultiplikation wirde der wert des punktes upgedatet\n",
    "            \n",
    "            M3[zeile1].append(point)\n",
    "            print(point)\n",
    "            print(\"\")\n",
    "\n",
    "        print(\"----------------\")\n",
    "\n",
    "    return M3\n",
    "\n",
    "print(matrix_multiplication([[1, 2], [3, 4], [5, 6]], [[1, 2, 3], [4, 5, 6]]))\n",
    "\n"
   ]
  },
  {
   "cell_type": "markdown",
   "metadata": {},
   "source": [
    "## Fragen\n",
    "- Q23 -> warum muss man hier eine funktion in einer funktion definieren? oder kann man da mehrere funktionen definieren und verschchtelt aufrufen?"
   ]
  }
 ],
 "metadata": {
  "kernelspec": {
   "display_name": "venv",
   "language": "python",
   "name": "python3"
  },
  "language_info": {
   "codemirror_mode": {
    "name": "ipython",
    "version": 3
   },
   "file_extension": ".py",
   "mimetype": "text/x-python",
   "name": "python",
   "nbconvert_exporter": "python",
   "pygments_lexer": "ipython3",
   "version": "3.12.3"
  }
 },
 "nbformat": 4,
 "nbformat_minor": 2
}
